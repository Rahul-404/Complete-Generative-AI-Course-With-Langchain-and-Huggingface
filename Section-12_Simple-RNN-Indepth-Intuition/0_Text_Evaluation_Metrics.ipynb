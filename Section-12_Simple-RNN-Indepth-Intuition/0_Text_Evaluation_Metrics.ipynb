{
 "cells": [
  {
   "cell_type": "markdown",
   "metadata": {},
   "source": [
    "### Evalutaion Metric for Sequence Data"
   ]
  },
  {
   "cell_type": "markdown",
   "metadata": {},
   "source": [
    "1. **BLEU (Bilingual Evaluation Understudy)** [https://www.youtube.com/watch?v=M05L1DhFqcw](https://www.youtube.com/watch?v=M05L1DhFqcw)"
   ]
  },
  {
   "cell_type": "code",
   "execution_count": null,
   "metadata": {
    "vscode": {
     "languageId": "plaintext"
    }
   },
   "outputs": [],
   "source": []
  },
  {
   "cell_type": "markdown",
   "metadata": {},
   "source": [
    "2. **ROUGE  (Recall-Oriented Understudy for Gisting Evaluation)** [https://www.youtube.com/watch?v=TMshhnrEXlg](https://www.youtube.com/watch?v=TMshhnrEXlg)"
   ]
  },
  {
   "cell_type": "code",
   "execution_count": null,
   "metadata": {
    "vscode": {
     "languageId": "plaintext"
    }
   },
   "outputs": [],
   "source": []
  },
  {
   "cell_type": "markdown",
   "metadata": {},
   "source": [
    "3. **METEOR (Metric for Evaluation of Translation with Explicit ORdering)** [link]()"
   ]
  },
  {
   "cell_type": "code",
   "execution_count": null,
   "metadata": {
    "vscode": {
     "languageId": "plaintext"
    }
   },
   "outputs": [],
   "source": []
  }
 ],
 "metadata": {
  "language_info": {
   "name": "python"
  }
 },
 "nbformat": 4,
 "nbformat_minor": 2
}
