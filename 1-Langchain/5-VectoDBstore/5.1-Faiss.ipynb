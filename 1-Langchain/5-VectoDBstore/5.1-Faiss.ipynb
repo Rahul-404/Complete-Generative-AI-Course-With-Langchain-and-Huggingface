{
 "cells": [
  {
   "cell_type": "markdown",
   "metadata": {},
   "source": [
    "## Faiss\n",
    "\n",
    "Facebook AI Similarity Search (Faiss) is a library for efficient similarity search and clustering of dense vectors. It contains algorithms that search in sets of vectors of any size, up to ones that possibly do not fit in RAM, It also contains supporting code for evaluation and parameter tunning."
   ]
  },
  {
   "cell_type": "code",
   "execution_count": 24,
   "metadata": {},
   "outputs": [],
   "source": [
    "from langchain_community.document_loaders import TextLoader\n",
    "from langchain_community.vectorstores import FAISS\n",
    "from langchain_community.embeddings import HuggingFaceEmbeddings\n",
    "from langchain_huggingface.embeddings import HuggingFaceEmbeddings\n",
    "from langchain_text_splitters import CharacterTextSplitter\n",
    "import os\n",
    "from dotenv import load_dotenv\n",
    "\n",
    "load_dotenv()\n",
    "\n",
    "os.environ[\"HF_API_TOKEN\"] = os.getenv(\"HF_API_TOKEN\")\n",
    "\n",
    "loader = TextLoader(\"speech.txt\")\n",
    "\n",
    "docunets = loader.load()\n",
    "\n",
    "text_splitter = CharacterTextSplitter(chunk_size=1000, chunk_overlap=30)\n",
    "\n",
    "docs = text_splitter.split_documents(docunets)"
   ]
  },
  {
   "cell_type": "code",
   "execution_count": 25,
   "metadata": {},
   "outputs": [
    {
     "data": {
      "text/plain": [
       "[Document(metadata={'source': 'speech.txt'}, page_content='The world must be made safe for democracy. Its peace must be planted upon the tested foundations of political liberty. We have no selfish ends to serve. We desire no conquest, no dominion. We seek no indemnities for ourselves, no material compensation for the sacrifices we shall freely make. We are but one of the champions of the rights of mankind. We shall be satisfied when those rights have been made as secure as the faith and the freedom of nations can make them.\\n\\nJust because we fight without rancor and without selfish object, seeking nothing for ourselves but what we shall wish to share with all free peoples, we shall, I feel confident, conduct our operations as belligerents without passion and ourselves observe with proud punctilio the principles of right and of fair play we profess to be fighting for.\\n\\n…'),\n",
       " Document(metadata={'source': 'speech.txt'}, page_content='…\\n\\nIt will be all the easier for us to conduct ourselves as belligerents in a high spirit of right and fairness because we act without animus, not in enmity toward a people or with the desire to bring any injury or disadvantage upon them, but only in armed opposition to an irresponsible government which has thrown aside all considerations of humanity and of right and is running amuck. We are, let me say again, the sincere friends of the German people, and shall desire nothing so much as the early reestablishment of intimate relations of mutual advantage between us—however hard it may be for them, for the time being, to believe that this is spoken from our hearts.'),\n",
       " Document(metadata={'source': 'speech.txt'}, page_content='We have borne with their present government through all these bitter months because of that friendship—exercising a patience and forbearance which would otherwise have been impossible. We shall, happily, still have an opportunity to prove that friendship in our daily attitude and actions toward the millions of men and women of German birth and native sympathy who live among us and share our life, and we shall be proud to prove it toward all who are in fact loyal to their neighbors and to the government in the hour of test. They are, most of them, as true and loyal Americans as if they had never known any other fealty or allegiance. They will be prompt to stand with us in rebuking and restraining the few who may be of a different mind and purpose. If there should be disloyalty, it will be dealt with with a firm hand of stern repression; but, if it lifts its head at all, it will lift it only here and there and without countenance except from a lawless and malignant few.'),\n",
       " Document(metadata={'source': 'speech.txt'}, page_content='It is a distressing and oppressive duty, gentlemen of the Congress, which I have performed in thus addressing you. There are, it may be, many months of fiery trial and sacrifice ahead of us. It is a fearful thing to lead this great peaceful people into war, into the most terrible and disastrous of all wars, civilization itself seeming to be in the balance. But the right is more precious than peace, and we shall fight for the things which we have always carried nearest our hearts—for democracy, for the right of those who submit to authority to have a voice in their own governments, for the rights and liberties of small nations, for a universal dominion of right by such a concert of free peoples as shall bring peace and safety to all nations and make the world itself at last free.'),\n",
       " Document(metadata={'source': 'speech.txt'}, page_content='To such a task we can dedicate our lives and our fortunes, everything that we are and everything that we have, with the pride of those who know that the day has come when America is privileged to spend her blood and her might for the principles that gave her birth and happiness and the peace which she has treasured. God helping her, she can do no other.')]"
      ]
     },
     "execution_count": 25,
     "metadata": {},
     "output_type": "execute_result"
    }
   ],
   "source": [
    "docs"
   ]
  },
  {
   "cell_type": "code",
   "execution_count": 26,
   "metadata": {},
   "outputs": [],
   "source": [
    "embeddings = HuggingFaceEmbeddings(model_name=\"all-MiniLM-L6-v2\")"
   ]
  },
  {
   "cell_type": "code",
   "execution_count": 27,
   "metadata": {},
   "outputs": [
    {
     "data": {
      "text/plain": [
       "<langchain_community.vectorstores.faiss.FAISS at 0x2be1673b0>"
      ]
     },
     "execution_count": 27,
     "metadata": {},
     "output_type": "execute_result"
    }
   ],
   "source": [
    "db = FAISS.from_documents(docs, embeddings)\n",
    "db"
   ]
  },
  {
   "cell_type": "code",
   "execution_count": 28,
   "metadata": {},
   "outputs": [],
   "source": [
    "### querying\n",
    "\n",
    "# query = \"What does the speaker believe is the main reason the United State should enbter the war?\"\n",
    "query = \"how does the speaker describes the desired outcome of the war?\""
   ]
  },
  {
   "cell_type": "code",
   "execution_count": 29,
   "metadata": {},
   "outputs": [],
   "source": [
    "result = db.similarity_search(query)"
   ]
  },
  {
   "cell_type": "code",
   "execution_count": 30,
   "metadata": {},
   "outputs": [
    {
     "data": {
      "text/plain": [
       "[Document(id='30262e7b-8e7c-4a14-ba48-5d117992f25e', metadata={'source': 'speech.txt'}, page_content='It is a distressing and oppressive duty, gentlemen of the Congress, which I have performed in thus addressing you. There are, it may be, many months of fiery trial and sacrifice ahead of us. It is a fearful thing to lead this great peaceful people into war, into the most terrible and disastrous of all wars, civilization itself seeming to be in the balance. But the right is more precious than peace, and we shall fight for the things which we have always carried nearest our hearts—for democracy, for the right of those who submit to authority to have a voice in their own governments, for the rights and liberties of small nations, for a universal dominion of right by such a concert of free peoples as shall bring peace and safety to all nations and make the world itself at last free.'),\n",
       " Document(id='51f195da-b135-42bb-9402-47c09cb1c112', metadata={'source': 'speech.txt'}, page_content='The world must be made safe for democracy. Its peace must be planted upon the tested foundations of political liberty. We have no selfish ends to serve. We desire no conquest, no dominion. We seek no indemnities for ourselves, no material compensation for the sacrifices we shall freely make. We are but one of the champions of the rights of mankind. We shall be satisfied when those rights have been made as secure as the faith and the freedom of nations can make them.\\n\\nJust because we fight without rancor and without selfish object, seeking nothing for ourselves but what we shall wish to share with all free peoples, we shall, I feel confident, conduct our operations as belligerents without passion and ourselves observe with proud punctilio the principles of right and of fair play we profess to be fighting for.\\n\\n…'),\n",
       " Document(id='b547cfe9-47aa-4503-b05e-7917132cd80b', metadata={'source': 'speech.txt'}, page_content='…\\n\\nIt will be all the easier for us to conduct ourselves as belligerents in a high spirit of right and fairness because we act without animus, not in enmity toward a people or with the desire to bring any injury or disadvantage upon them, but only in armed opposition to an irresponsible government which has thrown aside all considerations of humanity and of right and is running amuck. We are, let me say again, the sincere friends of the German people, and shall desire nothing so much as the early reestablishment of intimate relations of mutual advantage between us—however hard it may be for them, for the time being, to believe that this is spoken from our hearts.'),\n",
       " Document(id='705ba82a-3449-4ae1-80ba-6549315b2948', metadata={'source': 'speech.txt'}, page_content='We have borne with their present government through all these bitter months because of that friendship—exercising a patience and forbearance which would otherwise have been impossible. We shall, happily, still have an opportunity to prove that friendship in our daily attitude and actions toward the millions of men and women of German birth and native sympathy who live among us and share our life, and we shall be proud to prove it toward all who are in fact loyal to their neighbors and to the government in the hour of test. They are, most of them, as true and loyal Americans as if they had never known any other fealty or allegiance. They will be prompt to stand with us in rebuking and restraining the few who may be of a different mind and purpose. If there should be disloyalty, it will be dealt with with a firm hand of stern repression; but, if it lifts its head at all, it will lift it only here and there and without countenance except from a lawless and malignant few.')]"
      ]
     },
     "execution_count": 30,
     "metadata": {},
     "output_type": "execute_result"
    }
   ],
   "source": [
    "result"
   ]
  },
  {
   "cell_type": "markdown",
   "metadata": {},
   "source": [
    "## As Retriver\n",
    "\n",
    "We can also convert the vectorstore into a Retriver class. This allows us to easily use it in other LangChain methods, which largely work with retrivers"
   ]
  },
  {
   "cell_type": "code",
   "execution_count": 32,
   "metadata": {},
   "outputs": [
    {
     "data": {
      "text/plain": [
       "'It is a distressing and oppressive duty, gentlemen of the Congress, which I have performed in thus addressing you. There are, it may be, many months of fiery trial and sacrifice ahead of us. It is a fearful thing to lead this great peaceful people into war, into the most terrible and disastrous of all wars, civilization itself seeming to be in the balance. But the right is more precious than peace, and we shall fight for the things which we have always carried nearest our hearts—for democracy, for the right of those who submit to authority to have a voice in their own governments, for the rights and liberties of small nations, for a universal dominion of right by such a concert of free peoples as shall bring peace and safety to all nations and make the world itself at last free.'"
      ]
     },
     "execution_count": 32,
     "metadata": {},
     "output_type": "execute_result"
    }
   ],
   "source": [
    "retriever = db.as_retriever()\n",
    "docs = retriever.invoke(query)\n",
    "docs[0].page_content"
   ]
  },
  {
   "cell_type": "markdown",
   "metadata": {},
   "source": [
    "## Similarity Search with Score\n",
    "\n",
    "There are some FAISS specific methods. One of them is similarity_search_with_score , which allows you to return not only the documents but also the distance score of the query to them. The returned distance score is L2 distance (manhatten distance) . Therefore , a lower score is better"
   ]
  },
  {
   "cell_type": "code",
   "execution_count": 34,
   "metadata": {},
   "outputs": [
    {
     "data": {
      "text/plain": [
       "[(Document(id='30262e7b-8e7c-4a14-ba48-5d117992f25e', metadata={'source': 'speech.txt'}, page_content='It is a distressing and oppressive duty, gentlemen of the Congress, which I have performed in thus addressing you. There are, it may be, many months of fiery trial and sacrifice ahead of us. It is a fearful thing to lead this great peaceful people into war, into the most terrible and disastrous of all wars, civilization itself seeming to be in the balance. But the right is more precious than peace, and we shall fight for the things which we have always carried nearest our hearts—for democracy, for the right of those who submit to authority to have a voice in their own governments, for the rights and liberties of small nations, for a universal dominion of right by such a concert of free peoples as shall bring peace and safety to all nations and make the world itself at last free.'),\n",
       "  1.2987),\n",
       " (Document(id='51f195da-b135-42bb-9402-47c09cb1c112', metadata={'source': 'speech.txt'}, page_content='The world must be made safe for democracy. Its peace must be planted upon the tested foundations of political liberty. We have no selfish ends to serve. We desire no conquest, no dominion. We seek no indemnities for ourselves, no material compensation for the sacrifices we shall freely make. We are but one of the champions of the rights of mankind. We shall be satisfied when those rights have been made as secure as the faith and the freedom of nations can make them.\\n\\nJust because we fight without rancor and without selfish object, seeking nothing for ourselves but what we shall wish to share with all free peoples, we shall, I feel confident, conduct our operations as belligerents without passion and ourselves observe with proud punctilio the principles of right and of fair play we profess to be fighting for.\\n\\n…'),\n",
       "  1.3417892),\n",
       " (Document(id='b547cfe9-47aa-4503-b05e-7917132cd80b', metadata={'source': 'speech.txt'}, page_content='…\\n\\nIt will be all the easier for us to conduct ourselves as belligerents in a high spirit of right and fairness because we act without animus, not in enmity toward a people or with the desire to bring any injury or disadvantage upon them, but only in armed opposition to an irresponsible government which has thrown aside all considerations of humanity and of right and is running amuck. We are, let me say again, the sincere friends of the German people, and shall desire nothing so much as the early reestablishment of intimate relations of mutual advantage between us—however hard it may be for them, for the time being, to believe that this is spoken from our hearts.'),\n",
       "  1.435621),\n",
       " (Document(id='705ba82a-3449-4ae1-80ba-6549315b2948', metadata={'source': 'speech.txt'}, page_content='We have borne with their present government through all these bitter months because of that friendship—exercising a patience and forbearance which would otherwise have been impossible. We shall, happily, still have an opportunity to prove that friendship in our daily attitude and actions toward the millions of men and women of German birth and native sympathy who live among us and share our life, and we shall be proud to prove it toward all who are in fact loyal to their neighbors and to the government in the hour of test. They are, most of them, as true and loyal Americans as if they had never known any other fealty or allegiance. They will be prompt to stand with us in rebuking and restraining the few who may be of a different mind and purpose. If there should be disloyalty, it will be dealt with with a firm hand of stern repression; but, if it lifts its head at all, it will lift it only here and there and without countenance except from a lawless and malignant few.'),\n",
       "  1.5083426)]"
      ]
     },
     "execution_count": 34,
     "metadata": {},
     "output_type": "execute_result"
    }
   ],
   "source": [
    "docs_and_score = db.similarity_search_with_score(query)\n",
    "\n",
    "docs_and_score"
   ]
  },
  {
   "cell_type": "code",
   "execution_count": 35,
   "metadata": {},
   "outputs": [
    {
     "data": {
      "text/plain": [
       "[-0.032913755625486374,\n",
       " 0.10170978307723999,\n",
       " -0.00011212809477001429,\n",
       " -0.019504006952047348,\n",
       " -0.045224182307720184,\n",
       " 0.06250227987766266,\n",
       " 0.04311902076005936,\n",
       " -0.028385551646351814,\n",
       " 0.026878857985138893,\n",
       " 0.024963034316897392,\n",
       " -0.04218880832195282,\n",
       " 0.03370293974876404,\n",
       " 0.018711458891630173,\n",
       " -0.01545436680316925,\n",
       " -0.0009912289679050446,\n",
       " 0.003464618930593133,\n",
       " 0.015736691653728485,\n",
       " -0.03418785333633423,\n",
       " 0.009261156432330608,\n",
       " -0.01245136372745037,\n",
       " 0.09701213985681534,\n",
       " 0.054180487990379333,\n",
       " 0.06386708468198776,\n",
       " 0.010363666340708733,\n",
       " 0.019825933501124382,\n",
       " -0.019199838861823082,\n",
       " -0.020216049626469612,\n",
       " 0.049648795276880264,\n",
       " -0.014786963351070881,\n",
       " 0.03600902482867241,\n",
       " 0.054893769323825836,\n",
       " -0.01741040125489235,\n",
       " 0.019715070724487305,\n",
       " 0.003939272370189428,\n",
       " 0.00608086958527565,\n",
       " 0.009839949198067188,\n",
       " -0.06848147511482239,\n",
       " -0.0268461462110281,\n",
       " -0.016417721286416054,\n",
       " -0.015818411484360695,\n",
       " -0.0526374876499176,\n",
       " -0.04006645828485489,\n",
       " 0.014256134629249573,\n",
       " 0.04255764186382294,\n",
       " 0.023043198511004448,\n",
       " -0.002790166065096855,\n",
       " -0.06533566117286682,\n",
       " -0.018097396939992905,\n",
       " 0.025819916278123856,\n",
       " 0.05928109213709831,\n",
       " 0.012346767820417881,\n",
       " -0.025478679686784744,\n",
       " -0.03804129734635353,\n",
       " 0.003347481833770871,\n",
       " 0.025435741990804672,\n",
       " 0.019035259261727333,\n",
       " 0.0035047149285674095,\n",
       " -0.010211116634309292,\n",
       " 0.04912375658750534,\n",
       " -0.06235579773783684,\n",
       " -0.06727349013090134,\n",
       " -0.03610647842288017,\n",
       " -0.038342997431755066,\n",
       " 0.0313260480761528,\n",
       " 0.07233397662639618,\n",
       " -0.08832978457212448,\n",
       " 0.06670428067445755,\n",
       " 0.0039483024738729,\n",
       " -0.14825712144374847,\n",
       " 0.029130753129720688,\n",
       " 0.03625095635652542,\n",
       " 0.00882808119058609,\n",
       " 0.0455222949385643,\n",
       " -0.019246354699134827,\n",
       " -0.028255052864551544,\n",
       " -0.06861267983913422,\n",
       " 0.07045634090900421,\n",
       " 0.03647543117403984,\n",
       " 0.06801042705774307,\n",
       " 0.03785631060600281,\n",
       " -0.007548552937805653,\n",
       " 0.054338399320840836,\n",
       " -0.050976719707250595,\n",
       " -0.002129725879058242,\n",
       " 0.05777667835354805,\n",
       " -0.05537446588277817,\n",
       " 0.02884529158473015,\n",
       " -0.02114108018577099,\n",
       " 0.09862115234136581,\n",
       " 0.01898849755525589,\n",
       " -0.11928444355726242,\n",
       " -0.07681342214345932,\n",
       " 0.0013209060998633504,\n",
       " 0.07965046167373657,\n",
       " 0.008063137531280518,\n",
       " 0.09377779811620712,\n",
       " 0.04874149709939957,\n",
       " -0.04114430397748947,\n",
       " 0.0031583181116729975,\n",
       " 0.03013371303677559,\n",
       " 0.07511431723833084,\n",
       " -0.05923191457986832,\n",
       " -0.00859324261546135,\n",
       " -0.1178235113620758,\n",
       " -0.0504823736846447,\n",
       " -0.08761955797672272,\n",
       " -0.12109598517417908,\n",
       " 0.009968465194106102,\n",
       " -0.08890658617019653,\n",
       " -0.02203899621963501,\n",
       " -0.08133386820554733,\n",
       " -0.06209508702158928,\n",
       " 0.06631998717784882,\n",
       " -0.00019001598411705345,\n",
       " 0.029875850304961205,\n",
       " 0.05058467760682106,\n",
       " 0.00927487201988697,\n",
       " -0.04708445817232132,\n",
       " -0.03774857893586159,\n",
       " 0.014933960512280464,\n",
       " 0.01086527667939663,\n",
       " -0.027259206399321556,\n",
       " -0.024897105991840363,\n",
       " 0.024324750527739525,\n",
       " -0.1053817942738533,\n",
       " -0.009581315331161022,\n",
       " 0.017875567078590393,\n",
       " -6.216291837688638e-33,\n",
       " -0.00045158981811255217,\n",
       " -0.09138792008161545,\n",
       " -0.024975134059786797,\n",
       " 0.09487004578113556,\n",
       " -0.053195785731077194,\n",
       " -0.06608685106039047,\n",
       " -0.012306906282901764,\n",
       " -0.008232626132667065,\n",
       " 0.03995748236775398,\n",
       " 0.015751371160149574,\n",
       " -0.0905502662062645,\n",
       " 0.011880524456501007,\n",
       " -0.008801459334790707,\n",
       " 0.08210150897502899,\n",
       " -0.0019087315304204822,\n",
       " -0.05062811076641083,\n",
       " -0.12923003733158112,\n",
       " 0.12226766347885132,\n",
       " -0.027161024510860443,\n",
       " -0.00753759266808629,\n",
       " -0.011012474074959755,\n",
       " 0.0652211382985115,\n",
       " -0.004227030090987682,\n",
       " -0.046281587332487106,\n",
       " 0.09912396967411041,\n",
       " -0.032675232738256454,\n",
       " -0.03176279738545418,\n",
       " -0.04424665868282318,\n",
       " -0.0800105631351471,\n",
       " 0.01824408955872059,\n",
       " 0.02822704054415226,\n",
       " 0.044853970408439636,\n",
       " -0.012405091896653175,\n",
       " -0.07706344872713089,\n",
       " 0.028556104749441147,\n",
       " 0.004482316318899393,\n",
       " -0.07777237147092819,\n",
       " 0.03784739226102829,\n",
       " -0.044168345630168915,\n",
       " -0.023254696279764175,\n",
       " -0.010514752939343452,\n",
       " 0.02625998482108116,\n",
       " -0.045377444475889206,\n",
       " 0.05407526716589928,\n",
       " 0.11105611175298691,\n",
       " -0.020023761317133904,\n",
       " -0.029900871217250824,\n",
       " -0.004690156318247318,\n",
       " -0.08573679625988007,\n",
       " 0.005520521197468042,\n",
       " 0.026040194556117058,\n",
       " -0.043751344084739685,\n",
       " -0.0026127276942133904,\n",
       " -0.01839832030236721,\n",
       " 0.06090392544865608,\n",
       " 0.00804098043590784,\n",
       " -0.0013409093953669071,\n",
       " 0.03302660584449768,\n",
       " -0.08894594013690948,\n",
       " -0.07101652771234512,\n",
       " 0.07468258589506149,\n",
       " -0.021153679117560387,\n",
       " 0.00574064813554287,\n",
       " 0.026129089295864105,\n",
       " 0.012159689329564571,\n",
       " 0.009216582402586937,\n",
       " -0.0677972063422203,\n",
       " -0.035010091960430145,\n",
       " -0.009718623012304306,\n",
       " -0.005110217723995447,\n",
       " -0.02072260156273842,\n",
       " -0.006669909227639437,\n",
       " 0.027358893305063248,\n",
       " -0.057849444448947906,\n",
       " -0.06413111835718155,\n",
       " 0.01848074421286583,\n",
       " 0.038102101534605026,\n",
       " 0.012551543302834034,\n",
       " 0.013535074889659882,\n",
       " -0.069687619805336,\n",
       " -0.03739947825670242,\n",
       " 0.011504252441227436,\n",
       " -0.01136714592576027,\n",
       " 0.03518717736005783,\n",
       " 0.02710057981312275,\n",
       " 0.0043380665592849255,\n",
       " 0.01279009785503149,\n",
       " -0.1663518249988556,\n",
       " 0.003802534891292453,\n",
       " -0.028696274384856224,\n",
       " -0.022918302565813065,\n",
       " 0.013821521773934364,\n",
       " -0.009591965936124325,\n",
       " 0.03649263083934784,\n",
       " 0.00018795364303514361,\n",
       " 3.052790971509136e-33,\n",
       " -0.019261924549937248,\n",
       " 0.08106790482997894,\n",
       " -0.032380763441324234,\n",
       " 0.013263648375868797,\n",
       " -0.027643738314509392,\n",
       " 0.03079640120267868,\n",
       " 0.004417836666107178,\n",
       " -0.07486699521541595,\n",
       " -0.0010533194290474057,\n",
       " 0.004324570298194885,\n",
       " -0.06795971840620041,\n",
       " -0.0055623105727136135,\n",
       " 0.004097974859178066,\n",
       " 0.08052288740873337,\n",
       " -0.09552807360887527,\n",
       " 0.0013372388202697039,\n",
       " 0.10502889007329941,\n",
       " -0.04338306188583374,\n",
       " 0.054578520357608795,\n",
       " 0.00622039707377553,\n",
       " 0.02790745347738266,\n",
       " 0.039072196930646896,\n",
       " -0.04761997610330582,\n",
       " -0.033519212156534195,\n",
       " 0.0318065769970417,\n",
       " -0.011483767069876194,\n",
       " 0.09002948552370071,\n",
       " -0.053463008254766464,\n",
       " -0.05466444417834282,\n",
       " -0.042163219302892685,\n",
       " 0.0577036589384079,\n",
       " -0.11904965341091156,\n",
       " -0.10740351676940918,\n",
       " 0.0771230161190033,\n",
       " 0.08868350088596344,\n",
       " 0.053758881986141205,\n",
       " 0.13009481132030487,\n",
       " -0.016999300569295883,\n",
       " -0.007268530782312155,\n",
       " 0.018689407035708427,\n",
       " -0.0019919404294341803,\n",
       " -0.07280851155519485,\n",
       " -0.03562081605195999,\n",
       " 0.06587895005941391,\n",
       " -0.06689763069152832,\n",
       " -0.020412355661392212,\n",
       " 0.027522951364517212,\n",
       " 0.0059310803189873695,\n",
       " 0.04122962802648544,\n",
       " -0.05736323818564415,\n",
       " 0.05693010985851288,\n",
       " 0.05582295358181,\n",
       " -0.021491529420018196,\n",
       " 0.0605546236038208,\n",
       " -0.06882533431053162,\n",
       " -0.06580211222171783,\n",
       " -0.041859619319438934,\n",
       " -0.11369198560714722,\n",
       " 0.021761717274785042,\n",
       " 0.064140185713768,\n",
       " -0.08320929855108261,\n",
       " 0.002667990978807211,\n",
       " 0.02733488567173481,\n",
       " -0.0011575974058359861,\n",
       " -0.030932342633605003,\n",
       " -0.014575103297829628,\n",
       " -0.07153256982564926,\n",
       " 0.018604513257741928,\n",
       " 0.09742505848407745,\n",
       " 0.04975811764597893,\n",
       " 0.017403779551386833,\n",
       " 0.01320785004645586,\n",
       " -0.06292743980884552,\n",
       " 0.005778730381280184,\n",
       " 0.10968868434429169,\n",
       " -0.0298603642731905,\n",
       " 0.013064329512417316,\n",
       " -0.04573897644877434,\n",
       " -0.07973949611186981,\n",
       " 0.03570585697889328,\n",
       " -0.04133288934826851,\n",
       " -0.0049179550260305405,\n",
       " -0.019518859684467316,\n",
       " -0.009935420006513596,\n",
       " -0.04872257262468338,\n",
       " -0.008322100155055523,\n",
       " -0.0165217537432909,\n",
       " 0.03125841170549393,\n",
       " 0.05146229267120361,\n",
       " 0.00421111611649394,\n",
       " -0.009082309901714325,\n",
       " -0.055376190692186356,\n",
       " 0.033175647258758545,\n",
       " -0.015526367351412773,\n",
       " -0.04268227890133858,\n",
       " -2.008210131521082e-08,\n",
       " -0.03844515234231949,\n",
       " 0.03139184042811394,\n",
       " 0.06175307556986809,\n",
       " 0.019122285768389702,\n",
       " -0.06664305925369263,\n",
       " -0.006245058961212635,\n",
       " 0.006912719924002886,\n",
       " -0.09198382496833801,\n",
       " 0.01071948278695345,\n",
       " -0.0020587362814694643,\n",
       " 0.030992478132247925,\n",
       " 0.08147060126066208,\n",
       " -0.014562989585101604,\n",
       " 0.06463048607110977,\n",
       " -0.0007283462327904999,\n",
       " 0.10417396575212479,\n",
       " 0.019478173926472664,\n",
       " 0.009232791140675545,\n",
       " -0.05247503146529198,\n",
       " -0.043828513473272324,\n",
       " 0.07000260800123215,\n",
       " 7.162120891734958e-05,\n",
       " -0.03840804472565651,\n",
       " -0.018999304622411728,\n",
       " 0.035453204065561295,\n",
       " 0.05645439028739929,\n",
       " -0.025013545528054237,\n",
       " 0.04843492433428764,\n",
       " -0.01731256954371929,\n",
       " 0.11377128213644028,\n",
       " 0.0430816188454628,\n",
       " 0.07913440465927124,\n",
       " -0.07488906383514404,\n",
       " -0.0500405989587307,\n",
       " -0.05131249874830246,\n",
       " 0.09760294109582901,\n",
       " 0.0031520919874310493,\n",
       " -0.02748817391693592,\n",
       " 0.09071444720029831,\n",
       " -0.027766795828938484,\n",
       " 0.00696495920419693,\n",
       " 0.19698648154735565,\n",
       " 0.05077381059527397,\n",
       " 0.059533435851335526,\n",
       " 0.08286237716674805,\n",
       " 0.06623668968677521,\n",
       " -0.0019470944534987211,\n",
       " -0.0006396299577318132,\n",
       " -0.03592577576637268,\n",
       " -0.04466014727950096,\n",
       " -0.015366386622190475,\n",
       " 0.0057432325556874275,\n",
       " 0.003306129015982151,\n",
       " 0.056196004152297974,\n",
       " 0.03178180381655693,\n",
       " 0.006663310807198286,\n",
       " 0.048422832041978836,\n",
       " 0.021306294947862625,\n",
       " 0.04308781772851944,\n",
       " 0.0594881996512413,\n",
       " 0.026443634182214737,\n",
       " 0.04544444382190704,\n",
       " -0.006638867314904928,\n",
       " -0.012239014729857445]"
      ]
     },
     "execution_count": 35,
     "metadata": {},
     "output_type": "execute_result"
    }
   ],
   "source": [
    "embeddings_vector = embeddings.embed_query(query)\n",
    "embeddings_vector"
   ]
  },
  {
   "cell_type": "code",
   "execution_count": 37,
   "metadata": {},
   "outputs": [],
   "source": [
    "docs_and_score = db.similarity_search_by_vector(embeddings_vector)"
   ]
  },
  {
   "cell_type": "code",
   "execution_count": 38,
   "metadata": {},
   "outputs": [
    {
     "data": {
      "text/plain": [
       "[Document(id='30262e7b-8e7c-4a14-ba48-5d117992f25e', metadata={'source': 'speech.txt'}, page_content='It is a distressing and oppressive duty, gentlemen of the Congress, which I have performed in thus addressing you. There are, it may be, many months of fiery trial and sacrifice ahead of us. It is a fearful thing to lead this great peaceful people into war, into the most terrible and disastrous of all wars, civilization itself seeming to be in the balance. But the right is more precious than peace, and we shall fight for the things which we have always carried nearest our hearts—for democracy, for the right of those who submit to authority to have a voice in their own governments, for the rights and liberties of small nations, for a universal dominion of right by such a concert of free peoples as shall bring peace and safety to all nations and make the world itself at last free.'),\n",
       " Document(id='51f195da-b135-42bb-9402-47c09cb1c112', metadata={'source': 'speech.txt'}, page_content='The world must be made safe for democracy. Its peace must be planted upon the tested foundations of political liberty. We have no selfish ends to serve. We desire no conquest, no dominion. We seek no indemnities for ourselves, no material compensation for the sacrifices we shall freely make. We are but one of the champions of the rights of mankind. We shall be satisfied when those rights have been made as secure as the faith and the freedom of nations can make them.\\n\\nJust because we fight without rancor and without selfish object, seeking nothing for ourselves but what we shall wish to share with all free peoples, we shall, I feel confident, conduct our operations as belligerents without passion and ourselves observe with proud punctilio the principles of right and of fair play we profess to be fighting for.\\n\\n…'),\n",
       " Document(id='b547cfe9-47aa-4503-b05e-7917132cd80b', metadata={'source': 'speech.txt'}, page_content='…\\n\\nIt will be all the easier for us to conduct ourselves as belligerents in a high spirit of right and fairness because we act without animus, not in enmity toward a people or with the desire to bring any injury or disadvantage upon them, but only in armed opposition to an irresponsible government which has thrown aside all considerations of humanity and of right and is running amuck. We are, let me say again, the sincere friends of the German people, and shall desire nothing so much as the early reestablishment of intimate relations of mutual advantage between us—however hard it may be for them, for the time being, to believe that this is spoken from our hearts.'),\n",
       " Document(id='705ba82a-3449-4ae1-80ba-6549315b2948', metadata={'source': 'speech.txt'}, page_content='We have borne with their present government through all these bitter months because of that friendship—exercising a patience and forbearance which would otherwise have been impossible. We shall, happily, still have an opportunity to prove that friendship in our daily attitude and actions toward the millions of men and women of German birth and native sympathy who live among us and share our life, and we shall be proud to prove it toward all who are in fact loyal to their neighbors and to the government in the hour of test. They are, most of them, as true and loyal Americans as if they had never known any other fealty or allegiance. They will be prompt to stand with us in rebuking and restraining the few who may be of a different mind and purpose. If there should be disloyalty, it will be dealt with with a firm hand of stern repression; but, if it lifts its head at all, it will lift it only here and there and without countenance except from a lawless and malignant few.')]"
      ]
     },
     "execution_count": 38,
     "metadata": {},
     "output_type": "execute_result"
    }
   ],
   "source": [
    "docs_and_score"
   ]
  },
  {
   "cell_type": "code",
   "execution_count": 40,
   "metadata": {},
   "outputs": [],
   "source": [
    "### Saving and Loading\n",
    "db.save_local(\"fiass_index\")"
   ]
  },
  {
   "cell_type": "code",
   "execution_count": 42,
   "metadata": {},
   "outputs": [],
   "source": [
    "new_df = FAISS.load_local(\"fiass_index\", embeddings, allow_dangerous_deserialization=True)"
   ]
  },
  {
   "cell_type": "code",
   "execution_count": null,
   "metadata": {},
   "outputs": [],
   "source": []
  }
 ],
 "metadata": {
  "kernelspec": {
   "display_name": "venv",
   "language": "python",
   "name": "python3"
  },
  "language_info": {
   "codemirror_mode": {
    "name": "ipython",
    "version": 3
   },
   "file_extension": ".py",
   "mimetype": "text/x-python",
   "name": "python",
   "nbconvert_exporter": "python",
   "pygments_lexer": "ipython3",
   "version": "3.12.8"
  }
 },
 "nbformat": 4,
 "nbformat_minor": 2
}
