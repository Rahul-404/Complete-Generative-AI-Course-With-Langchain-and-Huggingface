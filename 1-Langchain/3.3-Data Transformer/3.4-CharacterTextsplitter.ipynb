{
 "cells": [
  {
   "cell_type": "markdown",
   "metadata": {},
   "source": [
    "## How to split by character - Character Text Splitter \n",
    "\n",
    "This is the simplest method. This splits based on a given character sequences, which defaults to \"\\n\\n\". Chunk length is measured by number of characters.\n",
    "\n",
    "1. How the text is split: by single character seperator.\n",
    "2. How the chunk size is measured: by number of characters."
   ]
  },
  {
   "cell_type": "code",
   "execution_count": 1,
   "metadata": {},
   "outputs": [
    {
     "data": {
      "text/plain": [
       "[Document(metadata={'source': 'speech.txt'}, page_content='Dr. **Abdul Kalam**, the 11th President of India and a renowned scientist, delivered many inspiring speeches during his lifetime. One of his most famous speeches was delivered at **IIT Kharagpur** in 2002, titled \"You Have to Dream Before Your Dreams Can Come True.\" This speech is filled with wisdom, encouragement, and motivational messages for the youth, urging them to aspire for greatness and contribute to society. Here’s an excerpt from one of his most inspiring speeches:\\n\\n---\\n\\n### **Excerpt from Dr. Abdul Kalam\\'s Speech at IIT Kharagpur (2002)**\\n\\n**\"Dream, Dream, Dream!\"**\\n\\n_\"Dream, Dream, Dream. Dreams transform into thoughts, and thoughts result in action.\"_\\n\\n**Address to Students at IIT Kharagpur, 2002**\\n\\nDr. Kalam began his speech by talking about the importance of dreaming big and striving to achieve those dreams. He emphasized that **dreams** are the foundation of any success, and they are essential for personal growth and societal progress.\\n\\nHe said:\\n\\n> \"When you think about something, you are often filled with doubts and limitations. But a dream is something beyond the ordinary. You should dream for the nation. You have to dream before your dreams can come true. And when you start dreaming, your heart must be full of passion. Once you have the passion, you will pursue it and you will surely achieve it.\"\\n\\nHe encouraged students to dream of **greatness**, whether in the field of technology, leadership, or social service.\\n\\n**\"What Can I Give?\"**\\n\\nDr. Kalam\\'s speeches often conveyed the message of giving back to society. He emphasized that in order to make a difference, one must not ask what they can take from life, but rather **what they can give**:\\n\\n> \"My message to the youth of India is that you should have a clear, strong, and pure vision. We should not ask what the country can do for us, but we should ask ourselves what we can do for the country. This is the essence of nation-building.\"\\n\\nHe shared his own experiences of working with his team and how they built the **SLV (Satellite Launch Vehicle)**. He highlighted how collaboration, hard work, and dedication lead to tangible progress.\\n\\n**\"The Vision of a Leader\"**\\n\\nIn his speech, Dr. Kalam outlined the vision for the future of India. He believed that the country’s youth had the potential to transform the nation and lead it to greatness. He encouraged students to work toward creating a **technologically advanced**, **self-reliant**, and **prosperous India**.\\n\\n> \"To succeed in your mission, you must have single-minded devotion to your goal. The future belongs to those who believe in the beauty of their dreams.\"\\n\\n**\"A Leader’s Path\"**\\n\\nDr. Kalam also shared insights about leadership:\\n\\n> \"A leader must have the ability to inspire others to work toward a common goal. A leader is one who takes responsibility, not one who places blame. A leader must believe in the strength of the people, empowering them to reach their full potential. The role of a leader is to lead by example and create an environment where every person can succeed.\"\\n\\n---\\n\\n### **Key Themes of Abdul Kalam’s Speech**\\n\\n- **Dream Big**: He strongly encouraged students to dream big and not be confined by limitations. Dreams inspire action and can transform individuals and nations.\\n  \\n- **Nation Building**: Dr. Kalam stressed the importance of contributing to the growth of the nation. He believed that every individual has a role to play in making India a global leader.\\n\\n- **Self-Reliance**: He emphasized that India should strive for self-reliance in technology and other sectors. This can only be achieved through innovation, education, and teamwork.\\n\\n- **Leadership and Responsibility**: He highlighted the significance of strong leadership in both personal and professional life, noting that leaders must take responsibility, empower others, and lead with integrity.\\n\\n- **Hard Work and Perseverance**: According to Dr. Kalam, success is the result of consistent effort, passion, and unwavering commitment toward one\\'s goals.\\n\\n---\\n\\n### **Conclusion of the Speech**\\n\\nDr. Kalam concluded his speech with an inspiring message to the youth:\\n\\n> \"I am very much confident that you, the youth of India, will transform this nation into a developed country. You will become the **leaders of tomorrow**. You will lead the country to prosperity, and you will make a significant contribution to the world.\"\\n\\nHe said that the youth are the **pillars of the future** and have the power to change the world, urging them to stay grounded, work hard, and always strive for excellence.\\n\\n---\\n\\nDr. Abdul Kalam\\'s speeches have continued to inspire millions of young people around the world. His emphasis on **dreaming big**, **working hard**, and **serving the nation** makes his messages timeless and deeply motivational.')]"
      ]
     },
     "execution_count": 1,
     "metadata": {},
     "output_type": "execute_result"
    }
   ],
   "source": [
    "from langchain_community.document_loaders import TextLoader\n",
    "\n",
    "loader = TextLoader('speech.txt')\n",
    "docs = loader.load()\n",
    "docs"
   ]
  },
  {
   "cell_type": "code",
   "execution_count": 3,
   "metadata": {},
   "outputs": [
    {
     "name": "stderr",
     "output_type": "stream",
     "text": [
      "Created a chunk of size 479, which is longer than the specified 100\n",
      "Created a chunk of size 243, which is longer than the specified 100\n",
      "Created a chunk of size 359, which is longer than the specified 100\n",
      "Created a chunk of size 116, which is longer than the specified 100\n",
      "Created a chunk of size 206, which is longer than the specified 100\n",
      "Created a chunk of size 244, which is longer than the specified 100\n",
      "Created a chunk of size 200, which is longer than the specified 100\n",
      "Created a chunk of size 297, which is longer than the specified 100\n",
      "Created a chunk of size 153, which is longer than the specified 100\n",
      "Created a chunk of size 351, which is longer than the specified 100\n",
      "Created a chunk of size 353, which is longer than the specified 100\n",
      "Created a chunk of size 181, which is longer than the specified 100\n",
      "Created a chunk of size 216, which is longer than the specified 100\n",
      "Created a chunk of size 156, which is longer than the specified 100\n",
      "Created a chunk of size 256, which is longer than the specified 100\n",
      "Created a chunk of size 171, which is longer than the specified 100\n"
     ]
    },
    {
     "data": {
      "text/plain": [
       "[Document(metadata={'source': 'speech.txt'}, page_content='Dr. **Abdul Kalam**, the 11th President of India and a renowned scientist, delivered many inspiring speeches during his lifetime. One of his most famous speeches was delivered at **IIT Kharagpur** in 2002, titled \"You Have to Dream Before Your Dreams Can Come True.\" This speech is filled with wisdom, encouragement, and motivational messages for the youth, urging them to aspire for greatness and contribute to society. Here’s an excerpt from one of his most inspiring speeches:'),\n",
       " Document(metadata={'source': 'speech.txt'}, page_content=\"---\\n\\n### **Excerpt from Dr. Abdul Kalam's Speech at IIT Kharagpur (2002)**\"),\n",
       " Document(metadata={'source': 'speech.txt'}, page_content='**\"Dream, Dream, Dream!\"**'),\n",
       " Document(metadata={'source': 'speech.txt'}, page_content='_\"Dream, Dream, Dream. Dreams transform into thoughts, and thoughts result in action.\"_'),\n",
       " Document(metadata={'source': 'speech.txt'}, page_content='**Address to Students at IIT Kharagpur, 2002**'),\n",
       " Document(metadata={'source': 'speech.txt'}, page_content='Dr. Kalam began his speech by talking about the importance of dreaming big and striving to achieve those dreams. He emphasized that **dreams** are the foundation of any success, and they are essential for personal growth and societal progress.'),\n",
       " Document(metadata={'source': 'speech.txt'}, page_content='He said:'),\n",
       " Document(metadata={'source': 'speech.txt'}, page_content='> \"When you think about something, you are often filled with doubts and limitations. But a dream is something beyond the ordinary. You should dream for the nation. You have to dream before your dreams can come true. And when you start dreaming, your heart must be full of passion. Once you have the passion, you will pursue it and you will surely achieve it.\"'),\n",
       " Document(metadata={'source': 'speech.txt'}, page_content='He encouraged students to dream of **greatness**, whether in the field of technology, leadership, or social service.'),\n",
       " Document(metadata={'source': 'speech.txt'}, page_content='**\"What Can I Give?\"**'),\n",
       " Document(metadata={'source': 'speech.txt'}, page_content=\"Dr. Kalam's speeches often conveyed the message of giving back to society. He emphasized that in order to make a difference, one must not ask what they can take from life, but rather **what they can give**:\"),\n",
       " Document(metadata={'source': 'speech.txt'}, page_content='> \"My message to the youth of India is that you should have a clear, strong, and pure vision. We should not ask what the country can do for us, but we should ask ourselves what we can do for the country. This is the essence of nation-building.\"'),\n",
       " Document(metadata={'source': 'speech.txt'}, page_content='He shared his own experiences of working with his team and how they built the **SLV (Satellite Launch Vehicle)**. He highlighted how collaboration, hard work, and dedication lead to tangible progress.'),\n",
       " Document(metadata={'source': 'speech.txt'}, page_content='**\"The Vision of a Leader\"**'),\n",
       " Document(metadata={'source': 'speech.txt'}, page_content='In his speech, Dr. Kalam outlined the vision for the future of India. He believed that the country’s youth had the potential to transform the nation and lead it to greatness. He encouraged students to work toward creating a **technologically advanced**, **self-reliant**, and **prosperous India**.'),\n",
       " Document(metadata={'source': 'speech.txt'}, page_content='> \"To succeed in your mission, you must have single-minded devotion to your goal. The future belongs to those who believe in the beauty of their dreams.\"'),\n",
       " Document(metadata={'source': 'speech.txt'}, page_content='**\"A Leader’s Path\"**\\n\\nDr. Kalam also shared insights about leadership:'),\n",
       " Document(metadata={'source': 'speech.txt'}, page_content='> \"A leader must have the ability to inspire others to work toward a common goal. A leader is one who takes responsibility, not one who places blame. A leader must believe in the strength of the people, empowering them to reach their full potential. The role of a leader is to lead by example and create an environment where every person can succeed.\"'),\n",
       " Document(metadata={'source': 'speech.txt'}, page_content='---\\n\\n### **Key Themes of Abdul Kalam’s Speech**'),\n",
       " Document(metadata={'source': 'speech.txt'}, page_content='- **Dream Big**: He strongly encouraged students to dream big and not be confined by limitations. Dreams inspire action and can transform individuals and nations.\\n  \\n- **Nation Building**: Dr. Kalam stressed the importance of contributing to the growth of the nation. He believed that every individual has a role to play in making India a global leader.'),\n",
       " Document(metadata={'source': 'speech.txt'}, page_content='- **Self-Reliance**: He emphasized that India should strive for self-reliance in technology and other sectors. This can only be achieved through innovation, education, and teamwork.'),\n",
       " Document(metadata={'source': 'speech.txt'}, page_content='- **Leadership and Responsibility**: He highlighted the significance of strong leadership in both personal and professional life, noting that leaders must take responsibility, empower others, and lead with integrity.'),\n",
       " Document(metadata={'source': 'speech.txt'}, page_content=\"- **Hard Work and Perseverance**: According to Dr. Kalam, success is the result of consistent effort, passion, and unwavering commitment toward one's goals.\"),\n",
       " Document(metadata={'source': 'speech.txt'}, page_content='---\\n\\n### **Conclusion of the Speech**'),\n",
       " Document(metadata={'source': 'speech.txt'}, page_content='Dr. Kalam concluded his speech with an inspiring message to the youth:'),\n",
       " Document(metadata={'source': 'speech.txt'}, page_content='> \"I am very much confident that you, the youth of India, will transform this nation into a developed country. You will become the **leaders of tomorrow**. You will lead the country to prosperity, and you will make a significant contribution to the world.\"'),\n",
       " Document(metadata={'source': 'speech.txt'}, page_content='He said that the youth are the **pillars of the future** and have the power to change the world, urging them to stay grounded, work hard, and always strive for excellence.'),\n",
       " Document(metadata={'source': 'speech.txt'}, page_content='---'),\n",
       " Document(metadata={'source': 'speech.txt'}, page_content=\"Dr. Abdul Kalam's speeches have continued to inspire millions of young people around the world. His emphasis on **dreaming big**, **working hard**, and **serving the nation** makes his messages timeless and deeply motivational.\")]"
      ]
     },
     "execution_count": 3,
     "metadata": {},
     "output_type": "execute_result"
    }
   ],
   "source": [
    "from langchain_text_splitters import CharacterTextSplitter\n",
    "\n",
    "text_splitter = CharacterTextSplitter(separator=\"\\n\\n\", chunk_size=100, chunk_overlap=20)\n",
    "text_splitter.split_documents(docs)"
   ]
  },
  {
   "cell_type": "markdown",
   "metadata": {},
   "source": [
    "`Created a chunk of size 479, which is longer than the specified 100`\n",
    "\n",
    "What is the reason it has created the chunk size of 479 which is longer than 100 ?\n",
    "\n",
    "- because it did not found the separator, simple"
   ]
  },
  {
   "cell_type": "code",
   "execution_count": 7,
   "metadata": {},
   "outputs": [
    {
     "name": "stderr",
     "output_type": "stream",
     "text": [
      "Created a chunk of size 479, which is longer than the specified 100\n",
      "Created a chunk of size 243, which is longer than the specified 100\n",
      "Created a chunk of size 359, which is longer than the specified 100\n",
      "Created a chunk of size 116, which is longer than the specified 100\n",
      "Created a chunk of size 206, which is longer than the specified 100\n",
      "Created a chunk of size 244, which is longer than the specified 100\n",
      "Created a chunk of size 200, which is longer than the specified 100\n",
      "Created a chunk of size 297, which is longer than the specified 100\n",
      "Created a chunk of size 153, which is longer than the specified 100\n",
      "Created a chunk of size 351, which is longer than the specified 100\n",
      "Created a chunk of size 353, which is longer than the specified 100\n",
      "Created a chunk of size 181, which is longer than the specified 100\n",
      "Created a chunk of size 216, which is longer than the specified 100\n",
      "Created a chunk of size 156, which is longer than the specified 100\n",
      "Created a chunk of size 256, which is longer than the specified 100\n",
      "Created a chunk of size 171, which is longer than the specified 100\n"
     ]
    },
    {
     "name": "stdout",
     "output_type": "stream",
     "text": [
      "page_content='Dr. **Abdul Kalam**, the 11th President of India and a renowned scientist, delivered many inspiring speeches during his lifetime. One of his most famous speeches was delivered at **IIT Kharagpur** in 2002, titled \"You Have to Dream Before Your Dreams Can Come True.\" This speech is filled with wisdom, encouragement, and motivational messages for the youth, urging them to aspire for greatness and contribute to society. Here’s an excerpt from one of his most inspiring speeches:'\n",
      "page_content='---\n",
      "\n",
      "### **Excerpt from Dr. Abdul Kalam's Speech at IIT Kharagpur (2002)**'\n"
     ]
    }
   ],
   "source": [
    "speech = \"\"\n",
    "with open(\"speech.txt\") as f:\n",
    "    speech = f.read()\n",
    "\n",
    "text_splitter = CharacterTextSplitter(chunk_size=100, chunk_overlap=20)\n",
    "text = text_splitter.create_documents([speech])\n",
    "\n",
    "print(text[0])\n",
    "print(text[1])"
   ]
  },
  {
   "cell_type": "code",
   "execution_count": null,
   "metadata": {},
   "outputs": [],
   "source": []
  }
 ],
 "metadata": {
  "kernelspec": {
   "display_name": "Python 3",
   "language": "python",
   "name": "python3"
  },
  "language_info": {
   "codemirror_mode": {
    "name": "ipython",
    "version": 3
   },
   "file_extension": ".py",
   "mimetype": "text/x-python",
   "name": "python",
   "nbconvert_exporter": "python",
   "pygments_lexer": "ipython3",
   "version": "3.12.8"
  }
 },
 "nbformat": 4,
 "nbformat_minor": 2
}
